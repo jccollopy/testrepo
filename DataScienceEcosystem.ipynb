{
 "cells": [
  {
   "cell_type": "markdown",
   "id": "747a14a8",
   "metadata": {},
   "source": [
    "# Data Science Tools and Ecosystem"
   ]
  },
  {
   "cell_type": "markdown",
   "id": "2ff465c9",
   "metadata": {},
   "source": [
    "### In this notebook, Data Science Tools and Ecosystem are summarized."
   ]
  },
  {
   "cell_type": "markdown",
   "id": "c2422ecb",
   "metadata": {},
   "source": [
    "#### Data Science Languages (A Few Examples): Python, R, Java, and C"
   ]
  },
  {
   "cell_type": "markdown",
   "id": "716cbeed",
   "metadata": {},
   "source": [
    "#### Data Science Libraries: scikit-learn, Tensor Flow, caret."
   ]
  },
  {
   "cell_type": "markdown",
   "id": "e1f130de",
   "metadata": {},
   "source": [
    "#### Data Science Tools\n",
    "|Jupyter| ggplot2 | matplotlib\n",
    "|---|---|---|"
   ]
  },
  {
   "cell_type": "code",
   "execution_count": null,
   "id": "35352253",
   "metadata": {},
   "outputs": [],
   "source": [
    "# Arithmetic Expressions\n",
    "+, -, *, /"
   ]
  },
  {
   "cell_type": "code",
   "execution_count": 3,
   "id": "7fb3c954",
   "metadata": {
    "scrolled": true
   },
   "outputs": [
    {
     "data": {
      "text/plain": [
       "14"
      ]
     },
     "execution_count": 3,
     "metadata": {},
     "output_type": "execute_result"
    }
   ],
   "source": [
    "# Multiplication and Addition\n",
    "\n",
    "2 + 3 * 4"
   ]
  },
  {
   "cell_type": "code",
   "execution_count": null,
   "id": "9e623b40",
   "metadata": {},
   "outputs": [],
   "source": [
    "# Convert minutes to hours\n",
    "\n",
    "minutes = int(input(\"Enter minutes: \"))\n",
    "hours =  minutes/60"
   ]
  },
  {
   "cell_type": "markdown",
   "id": "53b90451",
   "metadata": {},
   "source": [
    "#### Objectives: get introduced to Jupyter Notebook as an important data science tool"
   ]
  },
  {
   "cell_type": "markdown",
   "id": "a6fc1190",
   "metadata": {},
   "source": [
    "#### Name: John Collopy"
   ]
  }
 ],
 "metadata": {
  "kernelspec": {
   "display_name": "Python 3 (ipykernel)",
   "language": "python",
   "name": "python3"
  },
  "language_info": {
   "codemirror_mode": {
    "name": "ipython",
    "version": 3
   },
   "file_extension": ".py",
   "mimetype": "text/x-python",
   "name": "python",
   "nbconvert_exporter": "python",
   "pygments_lexer": "ipython3",
   "version": "3.9.16"
  }
 },
 "nbformat": 4,
 "nbformat_minor": 5
}
