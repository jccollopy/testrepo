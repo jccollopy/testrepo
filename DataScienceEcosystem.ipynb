{
 "cells": [
  {
   "cell_type": "markdown",
   "id": "747a14a8",
   "metadata": {},
   "source": [
    "# Data Science Tools and Ecosystem"
   ]
  },
  {
   "cell_type": "markdown",
   "id": "2ff465c9",
   "metadata": {},
   "source": [
    "### In this notebook, Data Science Tools and Ecosystem are summarized."
   ]
  },
  {
   "cell_type": "markdown",
   "id": "c2422ecb",
   "metadata": {},
   "source": [
    "#### Some popular data science languages are:\n",
    "\n",
    "#### 1. Python\n",
    "#### 2. SQL\n",
    "#### 3. R"
   ]
  },
  {
   "cell_type": "markdown",
   "id": "716cbeed",
   "metadata": {},
   "source": [
    "#### Some popular data science libraries are:\n",
    "\n",
    "#### 1. Pandas\n",
    "#### 2. Numpy\n",
    "#### 3. Matplotlib"
   ]
  },
  {
   "cell_type": "markdown",
   "id": "e1f130de",
   "metadata": {},
   "source": [
    "#### Data Science Tools\n",
    "|Data Science Tools|\n",
    "|---|\n",
    "|Jupyter|\n",
    "|R Studio|\n",
    "|Anaconda|"
   ]
  },
  {
   "cell_type": "markdown",
   "id": "e68732d7",
   "metadata": {},
   "source": [
    "### Below are a few examples of evaluating arithmetic expressions."
   ]
  },
  {
   "cell_type": "code",
   "execution_count": 3,
   "id": "7fb3c954",
   "metadata": {
    "scrolled": true
   },
   "outputs": [
    {
     "data": {
      "text/plain": [
       "10"
      ]
     },
     "execution_count": 3,
     "metadata": {},
     "output_type": "execute_result"
    }
   ],
   "source": [
    "# Here is an example of multiplying then adding our integers\n",
    "\n",
    "(2 * 3) + 4"
   ]
  },
  {
   "cell_type": "code",
   "execution_count": 4,
   "id": "9e623b40",
   "metadata": {},
   "outputs": [
    {
     "data": {
      "text/plain": [
       "3.3333333333333335"
      ]
     },
     "execution_count": 4,
     "metadata": {},
     "output_type": "execute_result"
    }
   ],
   "source": [
    "# This will convert 200 minutes to hours.\n",
    "\n",
    "200/60"
   ]
  },
  {
   "cell_type": "markdown",
   "id": "53b90451",
   "metadata": {},
   "source": [
    "#### Objectives: \n",
    "- create markdown cells\n",
    "- format cells\n",
    "- run arithmetic expressions"
   ]
  },
  {
   "cell_type": "markdown",
   "id": "a6fc1190",
   "metadata": {},
   "source": [
    "### Author \n",
    "\n",
    "John Collopy"
   ]
  }
 ],
 "metadata": {
  "kernelspec": {
   "display_name": "Python 3 (ipykernel)",
   "language": "python",
   "name": "python3"
  },
  "language_info": {
   "codemirror_mode": {
    "name": "ipython",
    "version": 3
   },
   "file_extension": ".py",
   "mimetype": "text/x-python",
   "name": "python",
   "nbconvert_exporter": "python",
   "pygments_lexer": "ipython3",
   "version": "3.9.16"
  }
 },
 "nbformat": 4,
 "nbformat_minor": 5
}
